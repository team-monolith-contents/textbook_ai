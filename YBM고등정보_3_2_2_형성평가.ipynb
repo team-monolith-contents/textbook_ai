{
 "cells": [
  {
   "cell_type": "code",
   "execution_count": null,
   "id": "ff3b0d6b-2373-4ac5-948c-eeeac8747ddf",
   "metadata": {},
   "outputs": [],
   "source": []
  },
  {
   "cell_type": "markdown",
   "id": "c22b1e66-db56-40db-aa75-1be97fa17fba",
   "metadata": {},
   "source": [
    "1. 사용자가 프로그램에게 내용을 전달하는 것을 무엇이라고 하나요?(단답형)"
   ]
  },
  {
   "cell_type": "markdown",
   "id": "f772d488-d358-4f65-bc6b-191467fd8a81",
   "metadata": {},
   "source": [
    "2. 사용자가 콘솔창을 통해 프로그램에 내용을 전달하는 것을 무엇이라고 하나요?(단답형)"
   ]
  },
  {
   "cell_type": "markdown",
   "id": "b1810a36-49d2-48d7-9188-828ef3cf6a4f",
   "metadata": {},
   "source": [
    "3. 관련 있는 것끼리 연결하세요.(줄긋기)\n",
    "\n",
    "\n",
    "- 콘솔\n",
    "- 모니터\n",
    "----\n",
    "- 표준 입력\n",
    "- 표준 출력\n",
    "----\n",
    "- input()\n",
    "- print()"
   ]
  },
  {
   "cell_type": "markdown",
   "id": "9fcfc7c0-b075-43a1-8d9f-3c55a7e9764d",
   "metadata": {},
   "source": [
    "4. 3년 후의 내 나이를 알고 싶습니다. 다음 코드의 빈칸에 알맞은 코드를 넣으세요. \n",
    "\n",
    "```python\n",
    "현재나이 = (여기)(input())\n",
    "print('3년 후에', 현재나이 + 3, '살 입니다.')  \n",
    "```"
   ]
  },
  {
   "cell_type": "markdown",
   "id": "7888773f-d725-4eee-aa4a-fe66e7632ac2",
   "metadata": {},
   "source": [
    "5. 다음 주 파일 입출력과 관련된 함수가 아닌 것은?(객관식)\n",
    "\n",
    "- input()\n",
    "- open()\n",
    "- readline()\n",
    "- close()\n"
   ]
  },
  {
   "cell_type": "markdown",
   "id": "61d7746a-80f5-4b55-a3cd-3a2642222a92",
   "metadata": {},
   "source": [
    "6. 파일 입출력 함수의 사용 순서가 바르게 것을 고르시오.(객관식)\n",
    "\n",
    "- open() -> write() -> close()\n",
    "- read() -> readline() -> write()\n",
    "- close() -> read() -> close()\n",
    "- open() -> read() -> write()"
   ]
  },
  {
   "cell_type": "markdown",
   "id": "82465319-1684-4e17-9a7f-f4ce1cdd8e73",
   "metadata": {},
   "source": [
    "7. 파일의 내용을 읽어 출력하려고 합니다. 다음 코드를 실행시켰더니 'UnsupportedOperation: not readable' 에러가 발생했습니다. 어떻게 수정해야할까요?\n",
    "\n",
    "\n",
    "```python\n",
    "파일이름 = '멸종위기동물.txt'\n",
    "f = open(파일이름, 'w')        \n",
    "내용 = f.read()                \n",
    "print(내용)                  \n",
    "f.close()\n",
    "\n",
    "```"
   ]
  },
  {
   "cell_type": "markdown",
   "id": "47b4a429-ace7-4260-9d58-1a6d5365c34a",
   "metadata": {},
   "source": []
  }
 ],
 "metadata": {
  "kernelspec": {
   "display_name": "Python 3 (ipykernel)",
   "language": "python",
   "name": "python3"
  },
  "language_info": {
   "codemirror_mode": {
    "name": "ipython",
    "version": 3
   },
   "file_extension": ".py",
   "mimetype": "text/x-python",
   "name": "python",
   "nbconvert_exporter": "python",
   "pygments_lexer": "ipython3",
   "version": "3.10.13"
  }
 },
 "nbformat": 4,
 "nbformat_minor": 5
}
