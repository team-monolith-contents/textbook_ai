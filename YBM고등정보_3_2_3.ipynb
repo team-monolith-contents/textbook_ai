{
 "cells": [
  {
   "cell_type": "markdown",
   "id": "8eb18795-bec9-4b24-843a-c65bf1850fc4",
   "metadata": {},
   "source": [
    "<div style=\"padding: 15px; border: 5px solid transparent; border-color: transparent; margin-bottom: 20px; border-radius: 4px; color: #3c763d; background-color: #dff0d8; border-color: #d6e9c6; font-weight: bold;\">\n",
    "    <br><br>\n",
    "    <div style=\"font-weight: bold; font-size: 40px\">프로그래밍</div>\n",
    "    <div style=\"font-weight: bold; font-size: 20px\">[03] 다차원 데이터<br>\n",
    "    </div>\n",
    "    <hr style=\"width:80%;text-align:left;margin-left:0;border:0.5px solid green\">\n",
    "    <br>\n",
    "    &#x2022; 다차원 데이터의 개념을 이해하고 설명할 수 있다. <br>\n",
    "    &#x2022; 다차원 데이터 구조를 활용한 프로그램을 작성할 수 있다. <br>\n",
    "    <br>\n",
    "</div>"
   ]
  },
  {
   "cell_type": "markdown",
   "id": "12b4e3ee-5825-49ff-a478-930019064434",
   "metadata": {},
   "source": [
    "<div style=\"padding: 15px; border: 5px solid transparent; border-color: transparent; margin-bottom: 20px; border-radius: 4px; color: #3c763d; border-color: #d6e9c6; font-weight: bold;\">\n",
    "<h2 style='font-weight: bold'>1. 다차원 데이터</h2>\n",
    "</div>"
   ]
  },
  {
   "cell_type": "markdown",
   "id": "2f55a2ca-c622-4db7-8c03-47eccaa62962",
   "metadata": {},
   "source": [
    "- 다차원 데이터 : 2차원 이상의 공간으로 구성된 데이터 형태\n",
    "- 파이선에서 단일 데이터는 변수에 저장, 2개 이상의 다차원 데이터는 리스트를 이용해 표현\n"
   ]
  },
  {
   "cell_type": "markdown",
   "id": "4db0d4bb-d5f0-4a81-846f-d433580fc3a4",
   "metadata": {},
   "source": [
    "<div style=\"padding: 15px; border: 5px solid transparent; border-color: transparent; margin-bottom: 20px; border-radius: 4px; color: #8a6d3b;  border-color: #faebcc; font-weight: bold;\">\n",
    "    <div style=\"font-weight: bold; font-size: 20px\">✏️ [예제1]</div>\n",
    "    <br>\n",
    "반, 번호로 이름 출력하기<br>\n",
    "</div>"
   ]
  },
  {
   "cell_type": "code",
   "execution_count": 1,
   "id": "3c1977d6-1714-403e-9b46-967212165794",
   "metadata": {
    "codle/previous_execution": {
     "code": "이름 = [['갑돌','을숙','병준','정구'],\n      ['무진', '기철','경희','신지'],\n      ['임정','계준','갑을','병정']]\n\n반 = int(input('반? : '))\n번호 = int(input('번호? : '))\n행 = 반 -1\n열 = 번호 -1\n\nprint(이름[행][열])",
     "id": "3519865"
    },
    "tags": []
   },
   "outputs": [
    {
     "name": "stdin",
     "output_type": "stream",
     "text": [
      "반? :  2\n",
      "번호? :  3\n"
     ]
    },
    {
     "name": "stdout",
     "output_type": "stream",
     "text": [
      "경희\n"
     ]
    }
   ],
   "source": [
    "이름 = [['갑돌','을숙','병준','정구'],\n",
    "      ['무진', '기철','경희','신지'],\n",
    "      ['임정','계준','갑을','병정']]\n",
    "\n",
    "반 = int(input('반? : '))\n",
    "번호 = int(input('번호? : '))\n",
    "행 = 반 -1                   #첫행이 0부터이므로 1을 뺀다\n",
    "열 = 번호 -1                 #첫열이 0부터이므로 1을 뺀다\n",
    "\n",
    "print(이름[행][열])"
   ]
  },
  {
   "attachments": {
    "33e14b4d-74de-4812-a37d-b21dd71fa1d3.png": {
     "image/png": "[encoded data removed]"
    }
   },
   "cell_type": "markdown",
   "id": "1a2062ad-dad4-43d5-8010-874022d369e6",
   "metadata": {},
   "source": [
    "![image.png](attachment:33e14b4d-74de-4812-a37d-b21dd71fa1d3.png)\n",
    "\n",
    "파일 입출력과 관련된 함수"
   ]
  },
  {
   "cell_type": "markdown",
   "id": "3fd1d78c-d644-4b40-aee2-f254156e25a2",
   "metadata": {},
   "source": [
    "<div style=\"padding: 15px; border: 5px solid transparent; border-color: transparent; margin-bottom: 20px; border-radius: 4px; color: #8a6d3b;  border-color: #faebcc; font-weight: bold;\">\n",
    "    <div style=\"font-weight: bold; font-size: 20px\">✏️ [예제3]</div>\n",
    "    <br>\n",
    "파일 입출력하기<br>\n",
    "</div>"
   ]
  },
  {
   "cell_type": "code",
   "execution_count": 4,
   "id": "ad6004dd-f741-422a-ac84-c20416b14ed4",
   "metadata": {
    "codle/previous_execution": {
     "code": "파일이름 = '멸종위기동물.txt'    # 쓰기 모드로 파일 열기\nf = open(파일이름, 'w')          # 파일에 '노란목도라담비'라고 쓰기(출력하기)\nf.write('노란목도리담비')\nf.close()\n\nf = open(파일이름, 'r')          # 읽기 모드로 파일 열기\n내용 = f.read()                  # 파일 내용 읽기(입력받기)\nprint(내용)                      # 읽은 내용 출력하기\nf.close()\n\n",
     "id": "3517944"
    },
    "tags": []
   },
   "outputs": [
    {
     "name": "stdout",
     "output_type": "stream",
     "text": [
      "노란목도리담비\n"
     ]
    }
   ],
   "source": [
    "파일이름 = '멸종위기동물.txt'    # 쓰기 모드로 파일 열기\n",
    "f = open(파일이름, 'w')          # 파일에 '노란목도라담비'라고 쓰기(출력하기)\n",
    "f.write('노란목도리담비')\n",
    "f.close()\n",
    "\n",
    "f = open(파일이름, 'r')          # 읽기 모드로 파일 열기\n",
    "내용 = f.read()                  # 파일 내용 읽기(입력받기)\n",
    "print(내용)                      # 읽은 내용 출력하기\n",
    "f.close()\n",
    "\n"
   ]
  }
 ],
 "metadata": {
  "kernelspec": {
   "display_name": "Python 3 (ipykernel)",
   "language": "python",
   "name": "python3"
  },
  "language_info": {
   "codemirror_mode": {
    "name": "ipython",
    "version": 3
   },
   "file_extension": ".py",
   "mimetype": "text/x-python",
   "name": "python",
   "nbconvert_exporter": "python",
   "pygments_lexer": "ipython3",
   "version": "3.10.13"
  }
 },
 "nbformat": 4,
 "nbformat_minor": 5
}
