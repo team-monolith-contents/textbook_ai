{
 "cells": [
  {
   "cell_type": "markdown",
   "id": "8eb18795-bec9-4b24-843a-c65bf1850fc4",
   "metadata": {},
   "source": [
    "<div style=\"padding: 15px; border: 5px solid transparent; border-color: transparent; margin-bottom: 20px; border-radius: 4px; color: #3c763d; background-color: #dff0d8; border-color: #d6e9c6; font-weight: bold;\">\n",
    "    <br><br>\n",
    "    <div style=\"font-weight: bold; font-size: 40px\">프로그래밍</div>\n",
    "    <div style=\"font-weight: bold; font-size: 20px\">[01] 자료형<br>\n",
    "    <!--[02] 표준 입출력과 파일 입출력<br>\n",
    "    [03] 다차원 데이터<br>\n",
    "    [04] 제어 구조의 응용<br>\n",
    "    [05] 클래스와 인스턴스-->\n",
    "    </div>\n",
    "    <hr style=\"width:80%;text-align:left;margin-left:0;border:0.5px solid green\">\n",
    "    <br>\n",
    "    &#x2022; 자료형의 종류와 특성을 알고 설명할 수 있다.  <br>\n",
    "    &#x2022; 적합한 자료형을 선택하여 프로그램을 작성할 수 있다. <br>\n",
    "    <br>\n",
    "</div>"
   ]
  },
  {
   "cell_type": "markdown",
   "id": "12b4e3ee-5825-49ff-a478-930019064434",
   "metadata": {},
   "source": [
    "<div style=\"padding: 15px; border: 5px solid transparent; border-color: transparent; margin-bottom: 20px; border-radius: 4px; color: #3c763d; border-color: #d6e9c6; font-weight: bold;\">\n",
    "<h2 style='font-weight: bold'>1. 변수와 자료형</h2>\n",
    "</div>"
   ]
  },
  {
   "cell_type": "markdown",
   "id": "2f55a2ca-c622-4db7-8c03-47eccaa62962",
   "metadata": {},
   "source": [
    "- 변수 : 데이터를 저장할 수 있는 공간\n",
    "- 할당/대입 : 변수에 값을 저장하는 것\n",
    "\n"
   ]
  },
  {
   "cell_type": "markdown",
   "id": "4db0d4bb-d5f0-4a81-846f-d433580fc3a4",
   "metadata": {},
   "source": [
    "<div style=\"padding: 15px; border: 5px solid transparent; border-color: transparent; margin-bottom: 20px; border-radius: 4px; color: #8a6d3b;  border-color: #faebcc; font-weight: bold;\">\n",
    "    <div style=\"font-weight: bold; font-size: 20px\">✏️ [예제1]</div>\n",
    "    <br>\n",
    "사용자의 이름과 나이를 묻고 답하기<br>\n",
    "</div>"
   ]
  },
  {
   "cell_type": "code",
   "execution_count": null,
   "id": "3c1977d6-1714-403e-9b46-967212165794",
   "metadata": {},
   "outputs": [],
   "source": [
    "x = 3       # 변수 x에 3을 저장(대입)한다. \n",
    "print(x)    # 변수 x에서 값(3)을 꺼내 출력한다. \n",
    "x = 4       # 변수 x에 4를 저장한다. \n",
    "print(x)"
   ]
  },
  {
   "cell_type": "markdown",
   "id": "d9f8a770-2f4f-4aa3-ac69-6771e4a0f40c",
   "metadata": {},
   "source": [
    "<div style=\"padding: 15px; border: 5px solid transparent; border-color: transparent; margin-bottom: 20px; border-radius: 4px; color: #3c763d; border-color: #d6e9c6; font-weight: bold;\">\n",
    "<h2 style='font-weight: bold'>2. 자료형의 종류와 특성</h2>\n",
    "</div>"
   ]
  },
  {
   "cell_type": "markdown",
   "id": "1a2062ad-dad4-43d5-8010-874022d369e6",
   "metadata": {},
   "source": [
    "- 자료형 : 데이터의 종류에 따른 형태\n",
    "- 자료형은 수치 자료형, 문자열 자료형, 불 자료형이 있다. \n",
    "\n",
    "<table>\n",
    "    <tr>\n",
    "        <th colspan=4>자료형의 종류</th>\n",
    "    </tr>\n",
    "    <tr>\n",
    "        <th colspan=2 width=200>자료형</th>\n",
    "        <th width=200>저장 가능한 데이터 예시</th>\n",
    "        <th width=200>적용 가능한 연산 예시</th>\n",
    "    </tr>\n",
    "    <tr>\n",
    "        <td align=center rowspan=2>수치</td>\n",
    "                <td align=center>정수(int)</td>\n",
    "                <td align=center>3, 500, -2</td>\n",
    "                <td align=center rowspan=2>산술연산: +, -, *, **, /, %<br>비교연산 : >, >=, <, <=, =, !=</td>\n",
    "    </tr>\n",
    "    <tr>\n",
    "        <td align=center>실수(float)</td>\n",
    "                <td align=center>3.14, 4.5, -0.13</td>\n",
    "    </tr>\n",
    "    <tr>\n",
    "        <td align=center colspan=2>문자열(str)</td>\n",
    "                <td align=center>\"123\", \"love\", \"대한민국\"</td>\n",
    "                <td align=center>문자열 연산 : 인덱싱, 슬라이싱</td>\n",
    "    </tr>\n",
    "    <tr>\n",
    "        <td align=center colspan=2>불(bool)</td>\n",
    "                <td align=center>True, False</td>\n",
    "                <td align=center>논리 연산 : AND, OR, NOT</td>\n",
    "    </tr>\n",
    "    </table>\n",
    "    "
   ]
  },
  {
   "cell_type": "markdown",
   "id": "33fc3dc1-bc70-4edc-9c57-20bea7ffeed7",
   "metadata": {},
   "source": [
    "- 파이선은 자료형의 종류에 따라 수행할 수 있는 연산이 다르다. \n"
   ]
  },
  {
   "cell_type": "markdown",
   "id": "78faa7c8-a551-4a33-a2bc-d09321613ccb",
   "metadata": {},
   "source": [
    "<table>\n",
    "    <tr>\n",
    "        <td valign=top>\n",
    "<table width=300>\n",
    "    <tr><th colspan=4>산술 연산자</th></tr>\n",
    "    <tr>\n",
    "        <th>연산자</th>\n",
    "        <th>의미</th>\n",
    "        <th>예시</th>\n",
    "        <th>결과</th>\n",
    "    </tr>\n",
    "    <tr>\n",
    "        <td align=center>+</td>\n",
    "        <td align=center>덧셈</td>\n",
    "        <td align=center>7 + 2</td>\n",
    "        <td align=center>9</td>\n",
    "    </tr>\n",
    "        <tr>\n",
    "        <td align=center>-</td>\n",
    "        <td align=center>뺄셈</td>\n",
    "        <td align=center>7 - 2</td>\n",
    "        <td align=center>5</td>\n",
    "    </tr>\n",
    "        <tr>\n",
    "        <td align=center>*</td>\n",
    "        <td align=center>곱셈</td>\n",
    "        <td align=center>7 * 2</td>\n",
    "        <td align=center>14</td>\n",
    "    </tr>\n",
    "        <tr>\n",
    "        <td align=center>**</td>\n",
    "        <td align=center>제곱</td>\n",
    "        <td align=center>7 ** 2</td>\n",
    "        <td align=center>49</td>\n",
    "    </tr>\n",
    "        <tr>\n",
    "        <td align=center>/</td>\n",
    "        <td align=center>나눗셈</td>\n",
    "        <td align=center>7 / 2</td>\n",
    "        <td align=center>3.5</td>\n",
    "    </tr>\n",
    "        <tr>\n",
    "        <td align=center>//</td>\n",
    "        <td align=center>몫</td>\n",
    "        <td align=center>7 // 2</td>\n",
    "        <td align=center>3</td>\n",
    "    </tr>\n",
    "        <tr>\n",
    "        <td align=center>%</td>\n",
    "        <td align=center>나머지</td>\n",
    "        <td align=center>7 % 2</td>\n",
    "        <td align=center>1</td>\n",
    "    </tr>\n",
    "</table>\n",
    "        </td>\n",
    "        <td valign=top>            \n",
    "<table width=300>\n",
    "    <tr><th colspan=4>비교 연산자</th></tr>\n",
    "    <tr>\n",
    "        <th>연산자</th>\n",
    "        <th>의미</th>\n",
    "        <th>예시</th>\n",
    "        <th>결과</th>\n",
    "    </tr>\n",
    "    <tr>\n",
    "        <td align=center> < </td>\n",
    "        <td align=center>작다</td>\n",
    "        <td align=center>1 < 2</td>\n",
    "        <td align=center>True</td>\n",
    "    </tr>\n",
    "        <tr>\n",
    "        <td align=center> <= </td>\n",
    "        <td align=center>작거나 같다</td>\n",
    "        <td align=center>2 <= 2</td>\n",
    "        <td align=center>True</td>\n",
    "    </tr>\n",
    "        <tr>\n",
    "        <td align=center> > </td>\n",
    "        <td align=center>크다</td>\n",
    "        <td align=center>1 > 2</td>\n",
    "        <td align=center>False</td>\n",
    "    </tr>\n",
    "        <tr>\n",
    "        <td align=center> >= </td>\n",
    "        <td align=center>크거나 같다</td>\n",
    "        <td align=center>2 >= 2</td>\n",
    "        <td align=center>True</td>\n",
    "    </tr>\n",
    "        <tr>\n",
    "        <td align=center>=</td>\n",
    "        <td align=center>같다</td>\n",
    "        <td align=center>1 == 2</td>\n",
    "        <td align=center>False</td>\n",
    "    </tr>\n",
    "        <tr>\n",
    "        <td align=center>!=</td>\n",
    "        <td align=center>같지 않다</td>\n",
    "        <td align=center>1 != 2</td>\n",
    "        <td align=center>True</td>\n",
    "    </tr>\n",
    "</table>\n",
    "        </td></tr>\n",
    "    <tr><td>\n",
    "<table width=300>\n",
    "    <tr><th colspan=3>문자열 연산자</th></tr>\n",
    "    <tr>\n",
    "        <th>문자열 연산자</th>\n",
    "        <th>예시</th>\n",
    "        <th>결과</th>\n",
    "    </tr>\n",
    "    <tr>\n",
    "        <td align=center rowspan=2>[x]<br>인덱싱</td>\n",
    "        <td align=center>\"hello\"[0]</td>\n",
    "        <td align=center>h</td>\n",
    "    </tr>\n",
    "        <tr>\n",
    "        <td align=center>\"hello\"[2]</td>\n",
    "        <td align=center>l</td>\n",
    "    </tr>\n",
    "        <tr>\n",
    "        <td align=center rowspan=2>[x:y]<br>슬라이싱</td>\n",
    "        <td align=center>\"hello\"[0:3]</td>\n",
    "        <td align=center>hel</td>\n",
    "    </tr>\n",
    "        <tr>\n",
    "        <td align=center>\"hello\"[2:5]</td>\n",
    "        <td align=center>llo</td>\n",
    "    </tr>\n",
    "        <tr>\n",
    "        <td align=center>+</td>\n",
    "        <td align=center>\"hel\"+\"lo\"</td>\n",
    "        <td align=center>\"hello\"</td>\n",
    "    </tr>\n",
    "        <tr>\n",
    "        <td align=center>*</td>\n",
    "        <td align=center>\"가\" * 5</td>\n",
    "        <td align=center>가가가가가</td>\n",
    "    </tr>\n",
    "</table>\n",
    "        </td><td>\n",
    "<table>\n",
    "    <tr><th colspan=4>논리 연산자</th></tr>\n",
    "    <tr>\n",
    "        <th width=50>연산자</th>\n",
    "        <th width=50>의미</th>\n",
    "        <th width=100>예시</th>\n",
    "        <th width=50>결과</th>\n",
    "    </tr>\n",
    "    <tr>\n",
    "        <td align=center rowspan=2>and</td>\n",
    "        <td align=center rowspan=2>논리곱<br>(그리고)</td>\n",
    "        <td align=center>3 > 1 and 2 > 1</td>\n",
    "        <td align=center>True</td>\n",
    "    </tr>\n",
    "        <tr>\n",
    "        <td align=center>3 < 1 and 2 > 1</td>\n",
    "        <td align=center>False</td>\n",
    "    </tr>\n",
    "        <tr>\n",
    "        <td align=center rowspan=2>or</td>\n",
    "        <td align=center rowspan=2>논리합<br>(또는)</td>\n",
    "        <td align=center>3 < 1 or 2 > 1</td>\n",
    "        <td align=center>True</td>\n",
    "    </tr>\n",
    "        <tr>\n",
    "        <td align=center>3 < 1 or 2 < 1</td>\n",
    "        <td align=center>False</td>\n",
    "    </tr>\n",
    "        <tr>\n",
    "        <td align=center rowspan=2>not</td>\n",
    "        <td align=center rowspan=2>논리 부정</td>\n",
    "        <td align=center>!(3 > 1)</td>\n",
    "        <td align=center>False</td>\n",
    "    </tr>\n",
    "        <tr>\n",
    "        <td align=center>!(3 < 1)</td>\n",
    "        <td align=center>True</td>\n",
    "    </tr>\n",
    "</table>\n",
    "        </td></tr></table>"
   ]
  },
  {
   "cell_type": "markdown",
   "id": "3fd1d78c-d644-4b40-aee2-f254156e25a2",
   "metadata": {},
   "source": [
    "<div style=\"padding: 15px; border: 5px solid transparent; border-color: transparent; margin-bottom: 20px; border-radius: 4px; color: #8a6d3b;  border-color: #faebcc; font-weight: bold;\">\n",
    "    <div style=\"font-weight: bold; font-size: 20px\">✏️ [예제2]</div>\n",
    "    <br>\n",
    "데이터 자료형 확인하기<br>\n",
    "</div>"
   ]
  },
  {
   "cell_type": "code",
   "execution_count": 1,
   "id": "ad6004dd-f741-422a-ac84-c20416b14ed4",
   "metadata": {
    "codle/previous_execution": {
     "code": "a = 200\nb = 1.5\nc = '홍길동'\nd = True\ntype(a), type(b), type(c), type(d)",
     "id": "3493220"
    },
    "tags": []
   },
   "outputs": [
    {
     "data": {
      "text/plain": [
       "(int, float, str, bool)"
      ]
     },
     "execution_count": 1,
     "metadata": {},
     "output_type": "execute_result"
    }
   ],
   "source": [
    "a = 200\n",
    "b = 1.5\n",
    "c = '홍길동'\n",
    "d = True\n",
    "type(a), type(b), type(c), type(d)"
   ]
  },
  {
   "cell_type": "markdown",
   "id": "5b8b0bd9-e85c-4a12-b95c-ef1b147bbc18",
   "metadata": {},
   "source": [
    "<div style=\"padding: 15px; border: 5px solid transparent; border-color: transparent; margin-bottom: 20px; border-radius: 4px; color: #8a6d3b;  border-color: #faebcc; font-weight: bold;\">\n",
    "    <div style=\"font-weight: bold; font-size: 20px\">✏️ [예제3]</div>\n",
    "    <br>\n",
    "정수의 덧셈과 문자열의 덧셈<br>\n",
    "</div>"
   ]
  },
  {
   "cell_type": "code",
   "execution_count": null,
   "id": "a0d9189b-e15d-4e6a-8d5d-6164dc246e14",
   "metadata": {},
   "outputs": [],
   "source": [
    "print(123 + 456)        # 정수의 덧셈\n",
    "print('123' + '456')    # 문자열의 덧셈"
   ]
  },
  {
   "cell_type": "markdown",
   "id": "52ddef8e-50b0-4a57-80d4-6c79d063fc0b",
   "metadata": {},
   "source": [
    "### 학습회의 문제 95"
   ]
  },
  {
   "cell_type": "markdown",
   "id": "fab28fb5-b28e-4c92-b823-21ad88e9bc8c",
   "metadata": {},
   "source": [
    "<div style=\"padding: 15px; border: 5px solid transparent; border-color: transparent; margin-bottom: 20px; border-radius: 4px; color: #3c763d; border-color: #d6e9c6; font-weight: bold;\">\n",
    "<h2 style='font-weight: bold'>3. 형변환</h2>\n",
    "</div>"
   ]
  },
  {
   "cell_type": "markdown",
   "id": "c641ccc6-c06d-4375-8d4a-30736e2f0074",
   "metadata": {},
   "source": [
    "- 파이선은 형변환을 통해 현재 지정된 자료형을 다른 형태의 자료형으로 바꿀 수 있다. "
   ]
  },
  {
   "cell_type": "markdown",
   "id": "e0074706-499c-4f2d-aab9-57b3d5d5fa3d",
   "metadata": {},
   "source": [
    "<div style=\"padding: 15px; border: 5px solid transparent; border-color: transparent; margin-bottom: 20px; border-radius: 4px; color: #8a6d3b;  border-color: #faebcc; font-weight: bold;\">\n",
    "    <div style=\"font-weight: bold; font-size: 20px\">✏️ [예제4]</div>\n",
    "    <br>\n",
    "정수의 덧셈과 문자열의 덧셈<br>\n",
    "</div>"
   ]
  },
  {
   "cell_type": "code",
   "execution_count": 2,
   "id": "fbba83c4-d30a-46f1-9398-bb1b17c3a42a",
   "metadata": {
    "codle/previous_execution": {
     "code": "a = int(1.25)\nb = float('0.1')\nc = str(119)\na, b, c, type(a), type(b), type(c)",
     "id": "3493580"
    },
    "tags": []
   },
   "outputs": [
    {
     "data": {
      "text/plain": [
       "(1, 0.1, '119', int, float, str)"
      ]
     },
     "execution_count": 2,
     "metadata": {},
     "output_type": "execute_result"
    }
   ],
   "source": [
    "a = int(1.25)\n",
    "b = float('0.1')\n",
    "c = str(119)\n",
    "a, b, c, type(a), type(b), type(c)"
   ]
  },
  {
   "cell_type": "markdown",
   "id": "50b85730-4ba3-4fb1-8a5f-8d9e2e96dc3e",
   "metadata": {},
   "source": [
    "### 건강 검진하기 96"
   ]
  }
 ],
 "metadata": {
  "kernelspec": {
   "display_name": "Python 3 (ipykernel)",
   "language": "python",
   "name": "python3"
  },
  "language_info": {
   "codemirror_mode": {
    "name": "ipython",
    "version": 3
   },
   "file_extension": ".py",
   "mimetype": "text/x-python",
   "name": "python",
   "nbconvert_exporter": "python",
   "pygments_lexer": "ipython3",
   "version": "3.10.13"
  }
 },
 "nbformat": 4,
 "nbformat_minor": 5
}
