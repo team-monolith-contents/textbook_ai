{
 "cells": [
  {
   "cell_type": "markdown",
   "id": "b9416921-6321-4ab7-9585-a8f58df1c4d9",
   "metadata": {},
   "source": [
    "1. 우리 주변에서 찾아볼 수 있는 자료형을 예시와 같이 적어보세요.\n",
    "\n",
    "예시) \n",
    "- 문자열 : 'GS25'\n",
    "- 정수 : 비타500 가격 1000원\n",
    "- 실수 : 내 키 178.2\n",
    "- 불 : 보행자 신호등이 초록색인가?\n",
    "\n",
    "\n",
    "-----------------\n",
    "\n",
    "\n",
    "- 정수 : \n",
    "- 실수 : \n",
    "- 문자열 : \n",
    "- 불 : \n",
    "\n"
   ]
  },
  {
   "cell_type": "markdown",
   "id": "21ffc8a6-8fb8-41f9-b7d5-3832a84dab9a",
   "metadata": {},
   "source": [
    "2. 파이선에서 사용하는 자료형의 종류는 무엇이 있는지 아는 만큼 적어보세요. "
   ]
  },
  {
   "cell_type": "markdown",
   "id": "833e651b-29af-4884-bfe6-53f18d5746ec",
   "metadata": {},
   "source": [
    "3. 형변환은 무엇일까요?"
   ]
  },
  {
   "cell_type": "markdown",
   "id": "eb3cc901-3dab-45d5-b595-2050dac4b263",
   "metadata": {},
   "source": [
    "4. 형변환을 하는 이유는 무엇일까요?"
   ]
  },
  {
   "cell_type": "markdown",
   "id": "a82a02e9-6f36-450b-972a-a470fd8fe315",
   "metadata": {},
   "source": [
    "알고 있는 개념을 적어보거나 책을 찾아서 적어볼 수 있는 질문\n",
    "\n",
    "단점 : 답이 없거나 채점하기 어려움\n",
    "\n",
    "------------\n",
    "\n",
    "\n",
    "소프트웨어야 놀자 영상 -> 너무 어린이\n",
    "\n",
    "알맞은 영상이나 애니메이션 제작? 링크?\n",
    "\n",
    "아니면 형성평가 같은 문제 반복?\n",
    "\n",
    "\n",
    "\n",
    "\n"
   ]
  },
  {
   "cell_type": "markdown",
   "id": "c2fbf9bd-f1fe-4d8f-9cad-4bd29594bfbb",
   "metadata": {},
   "source": [
    "문제가 있으면 안됨\n",
    "이전 단원 복습 내용\n",
    "\n",
    "문장 따라서 타이핑\n",
    "빈칸 채워서 타이핑\n",
    "\n",
    "-- 어디로 \n",
    "코드 결과 예측하기\n",
    "코드 틀린 부분 찾기"
   ]
  }
 ],
 "metadata": {
  "kernelspec": {
   "display_name": "Python 3 (ipykernel)",
   "language": "python",
   "name": "python3"
  },
  "language_info": {
   "codemirror_mode": {
    "name": "ipython",
    "version": 3
   },
   "file_extension": ".py",
   "mimetype": "text/x-python",
   "name": "python",
   "nbconvert_exporter": "python",
   "pygments_lexer": "ipython3",
   "version": "3.10.13"
  }
 },
 "nbformat": 4,
 "nbformat_minor": 5
}
