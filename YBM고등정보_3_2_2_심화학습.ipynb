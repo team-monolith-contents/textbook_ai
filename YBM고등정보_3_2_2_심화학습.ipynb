{
 "cells": [
  {
   "cell_type": "code",
   "execution_count": 2,
   "id": "45ed84fc-b1fe-46ef-85f8-fcf28545ff2f",
   "metadata": {
    "codle/previous_execution": {
     "code": "# 가족의 나이를 입력 받아서 가족 나이 모두의 합과 평균을 구하시오. \n################아래에 코드를 작성하시오###################\ndad = None\nmom = None\nbro = None\nsis = None\nme = None\n\n\n\n\n################ 모범답안 ###################\ndad = int(input())\nmom = int(input())\nbro = int(input())\nsis = int(input())\nme = int(input())\n\n\n# int(dad) + int(mom) + int(bro) + int(sis) + int(me), (int(dad) + int(mom) + int(bro) + int(sis) + int(me))/5\ndad + mom + bro + sis + me, (dad + mom + bro + sis + me)/5\n\n",
     "id": "3508335"
    },
    "tags": []
   },
   "outputs": [
    {
     "name": "stdin",
     "output_type": "stream",
     "text": [
      " 10\n",
      " 10\n",
      " 10\n",
      " 10\n",
      " 10\n"
     ]
    },
    {
     "data": {
      "text/plain": [
       "(50, 10.0)"
      ]
     },
     "execution_count": 2,
     "metadata": {},
     "output_type": "execute_result"
    }
   ],
   "source": [
    "# 가족의 나이를 입력 받아서 가족 나이 모두의 합과 평균을 구하시오. \n",
    "################아래에 코드를 작성하시오###################\n",
    "dad = None\n",
    "mom = None\n",
    "bro = None\n",
    "sis = None\n",
    "me = None\n",
    "\n",
    "\n",
    "\n",
    "\n",
    "################ 모범답안 ###################\n",
    "dad = int(input())\n",
    "mom = int(input())\n",
    "bro = int(input())\n",
    "sis = int(input())\n",
    "me = int(input())\n",
    "\n",
    "\n",
    "# int(dad) + int(mom) + int(bro) + int(sis) + int(me), (int(dad) + int(mom) + int(bro) + int(sis) + int(me))/5\n",
    "dad + mom + bro + sis + me, (dad + mom + bro + sis + me)/5\n",
    "\n"
   ]
  },
  {
   "cell_type": "code",
   "execution_count": null,
   "id": "56bdedb4-8ada-4d75-857c-bfc9a0777823",
   "metadata": {},
   "outputs": [],
   "source": [
    "# 파일명을 'name.txt'로 하고 파일에 자신의 이름, 학교, 학년을 공백 한 칸으로 구분하여 한 줄로 저장하세요. \n",
    "# 'name.txt'에 저장된 내용을 읽어서 출력하세요. \n",
    "################아래에 코드를 작성하시오###################\n",
    "\n",
    "\n",
    "\n",
    "\n",
    "\n",
    "\n",
    "\n",
    "\n",
    "\n",
    "################ 모범답안 ###################\n",
    "파일이름 = 'name.txt'    # 쓰기 모드로 파일 열기\n",
    "f = open(파일이름, 'w')          \n",
    "f.write('아이유 대한고 1학년')\n",
    "f.close()\n",
    "\n",
    "f = open(파일이름, 'r')         \n",
    "내용 = f.read()                \n",
    "print(내용)                     \n",
    "f.close()\n"
   ]
  },
  {
   "cell_type": "code",
   "execution_count": 3,
   "id": "df1fc42e-9927-4a7f-820c-8779c27ed41c",
   "metadata": {
    "codle/previous_execution": {
     "code": "# 파일 open() 모드는 우리가 배운 w, r 이외에 \n# 'a'도 있습니다. \n# Append를 뜻하고 파일에 내용을 덧붙일때 사용하는 mode입니다.\n# '멸종위기동물.txt' 파일에 다른 멸종위기 동물을 추가하세요. \n\n파일이름 = '멸종위기동물.txt'    # 쓰기 모드로 파일 열기\nf = open(파일이름, 'a')          # 파일에 '노란목도라담비'라고 쓰기(출력하기)\nf.write('코알라\\n게잡이원숭이\\n황제펭귄\\n철새제왕나비\\n그린란드상어\\n주머니날다람쥐\\n네바다두꺼비')\nf.close()\n\nf = open(파일이름, 'r')          # 읽기 모드로 파일 열기\n내용 = f.read()                  # 파일 내용 읽기(입력받기)\nprint(내용)                      # 읽은 내용 출력하기\nf.close()\n",
     "id": "3516815"
    },
    "tags": []
   },
   "outputs": [
    {
     "name": "stdout",
     "output_type": "stream",
     "text": [
      "노란목도리담비노란목도리담비코알라\n",
      "게잡이원숭이\n",
      "황제펭귄\n",
      "철새제왕나비\n",
      "그린란드상어\n",
      "주머니날다람쥐\n",
      "네바다두꺼비\n"
     ]
    }
   ],
   "source": [
    "# 파일 open() 모드는 우리가 배운 w, r 이외에 \n",
    "# 'a'도 있습니다. \n",
    "# Append를 뜻하고 파일에 내용을 덧붙일때 사용하는 mode입니다.\n",
    "# '멸종위기동물.txt' 파일에 다른 멸종위기 동물을 추가하세요. \n",
    "\n",
    "파일이름 = '멸종위기동물.txt'    # 쓰기 모드로 파일 열기\n",
    "f = open(파일이름, 'a')          # 파일에 '노란목도라담비'라고 쓰기(출력하기)\n",
    "f.write('코알라\\n게잡이원숭이\\n황제펭귄\\n철새제왕나비\\n그린란드상어\\n주머니날다람쥐\\n네바다두꺼비')\n",
    "f.close()\n",
    "\n",
    "f = open(파일이름, 'r')          # 읽기 모드로 파일 열기\n",
    "내용 = f.read()                  # 파일 내용 읽기(입력받기)\n",
    "print(내용)                      # 읽은 내용 출력하기\n",
    "f.close()\n"
   ]
  }
 ],
 "metadata": {
  "kernelspec": {
   "display_name": "Python 3 (ipykernel)",
   "language": "python",
   "name": "python3"
  },
  "language_info": {
   "codemirror_mode": {
    "name": "ipython",
    "version": 3
   },
   "file_extension": ".py",
   "mimetype": "text/x-python",
   "name": "python",
   "nbconvert_exporter": "python",
   "pygments_lexer": "ipython3",
   "version": "3.10.13"
  }
 },
 "nbformat": 4,
 "nbformat_minor": 5
}
