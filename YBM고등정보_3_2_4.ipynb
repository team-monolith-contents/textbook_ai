{
 "cells": [
  {
   "cell_type": "markdown",
   "id": "8eb18795-bec9-4b24-843a-c65bf1850fc4",
   "metadata": {},
   "source": [
    "<div style=\"padding: 15px; border: 5px solid transparent; border-color: transparent; margin-bottom: 20px; border-radius: 4px; color: #3c763d; background-color: #dff0d8; border-color: #d6e9c6; font-weight: bold;\">\n",
    "    <br><br>\n",
    "    <div style=\"font-weight: bold; font-size: 40px\">프로그래밍</div>\n",
    "    <div style=\"font-weight: bold; font-size: 20px\">[04] 제어 구조의 응용<br>\n",
    "    </div>\n",
    "    <hr style=\"width:80%;text-align:left;margin-left:0;border:0.5px solid green\">\n",
    "    <br>\n",
    "    &#x2022; 다양한 제어 구조를 복합적으로 활용하여 프로그램을 작성할 수 있다. <br>\n",
    "    <br>\n",
    "</div>"
   ]
  },
  {
   "cell_type": "markdown",
   "id": "12b4e3ee-5825-49ff-a478-930019064434",
   "metadata": {},
   "source": [
    "<div style=\"padding: 15px; border: 5px solid transparent; border-color: transparent; margin-bottom: 20px; border-radius: 4px; color: #3c763d; border-color: #d6e9c6; font-weight: bold;\">\n",
    "<h2 style='font-weight: bold'>1. 제어 구조의 복합적인 활용</h2>\n",
    "</div>"
   ]
  },
  {
   "cell_type": "markdown",
   "id": "2f55a2ca-c622-4db7-8c03-47eccaa62962",
   "metadata": {},
   "source": [
    "- 선택 구조\n",
    "- 반복 구조"
   ]
  },
  {
   "cell_type": "markdown",
   "id": "4db0d4bb-d5f0-4a81-846f-d433580fc3a4",
   "metadata": {},
   "source": [
    "<div style=\"padding: 15px; border: 5px solid transparent; border-color: transparent; margin-bottom: 20px; border-radius: 4px; color: #8a6d3b;  border-color: #faebcc; font-weight: bold;\">\n",
    "    <div style=\"font-weight: bold; font-size: 20px\">✏️ [예제1]</div>\n",
    "    <br>\n",
    "최고 기온<br>\n",
    "</div>"
   ]
  },
  {
   "cell_type": "code",
   "execution_count": 1,
   "id": "3c1977d6-1714-403e-9b46-967212165794",
   "metadata": {
    "codle/previous_execution": {
     "code": "기온 = [25.0, 25.5, 24.5, 25.0, 26.5, 25.0]\n최댓값 = 기온[0]\n\nfor i in range(1, len(기온)):\n    if 최댓값 < 기온[i]:\n        최댓값 = 기온[i]\n        \nprint('최고기온 : ', 최댓값)\n\n",
     "id": "3522437"
    },
    "tags": []
   },
   "outputs": [
    {
     "name": "stdout",
     "output_type": "stream",
     "text": [
      "최고기온 :  26.5\n"
     ]
    }
   ],
   "source": [
    "기온 = [25.0, 25.5, 24.5, 25.0, 26.5, 25.0]\n",
    "최댓값 = 기온[0]\n",
    "\n",
    "for i in range(1, len(기온)):\n",
    "    if 최댓값 < 기온[i]:\n",
    "        최댓값 = 기온[i]\n",
    "        \n",
    "print('최고기온 : ', 최댓값)\n",
    "\n"
   ]
  },
  {
   "cell_type": "markdown",
   "id": "776d033a-1b43-4402-ad50-0bf5062e7964",
   "metadata": {},
   "source": [
    "<div style=\"padding: 15px; border: 5px solid transparent; border-color: transparent; margin-bottom: 20px; border-radius: 4px; color: #3c763d; border-color: #d6e9c6; font-weight: bold;\">\n",
    "<h2 style='font-weight: bold'>2. 이진 탐색 알고리즘 구현하기</h2>\n",
    "</div>"
   ]
  },
  {
   "cell_type": "markdown",
   "id": "3d52e88f-0e17-4aca-9810-e1429c1da72b",
   "metadata": {},
   "source": [
    "<div style=\"padding: 15px; border: 5px solid transparent; border-color: transparent; margin-bottom: 20px; border-radius: 4px; color: #8a6d3b;  border-color: #faebcc; font-weight: bold;\">\n",
    "    <div style=\"font-weight: bold; font-size: 20px\">✏️ [예제2]</div>\n",
    "    <br>\n",
    "이진 탐색으로 동물 찾기<br>\n",
    "</div>"
   ]
  },
  {
   "cell_type": "code",
   "execution_count": 4,
   "id": "30d4f09a-a5df-4f1d-b7d7-2e87dc38b32e",
   "metadata": {
    "codle/previous_execution": {
     "code": "동물 = input('찾으려는 동물은? ')\n동물원 = ['고양이','기린','돼지','매머드','뱀','사자','원숭이','코끼리','토끼','팬더','하마','호랑이']\n\n번호 = -1\nleft = 0\nright = len(동물원) - 1\n\nwhile left <= right:\n    mid = (left + right) // 2           # 중간 인덱스 계산\n    if 동물원[mid] == 동물:              # 찾으려는 값과 중간값이 같은 경우\n        번호 = mid\n        break\n    elif 동물원[mid] < 동물 :            # 찾으려는 값이 중간값보다 큰 경우\n        left = mid + 1\n    else:                               # 찾으려는 값이 중간값보다 작은 경우\n        right = mid -1\n        \nif 번호 >= 0:\n    print(동물 + '을(를) 만나려면 '+str(번호)+'구역으로 가세요.')\nelse:\n    print(동물 + '은(는) 동물원에 없습니다. ')",
     "id": "3523252"
    },
    "tags": []
   },
   "outputs": [
    {
     "name": "stdin",
     "output_type": "stream",
     "text": [
      "찾으려는 동물은?  고양이\n"
     ]
    },
    {
     "name": "stdout",
     "output_type": "stream",
     "text": [
      "고양이을(를) 만나려면 0구역으로 가세요.\n"
     ]
    }
   ],
   "source": [
    "동물 = input('찾으려는 동물은? ')\n",
    "동물원 = ['고양이','기린','돼지','매머드','뱀','사자','원숭이','코끼리','토끼','팬더','하마','호랑이']\n",
    "\n",
    "번호 = -1\n",
    "left = 0\n",
    "right = len(동물원) - 1\n",
    "\n",
    "while left <= right:\n",
    "    mid = (left + right) // 2           # 중간 인덱스 계산\n",
    "    if 동물원[mid] == 동물:              # 찾으려는 값과 중간값이 같은 경우\n",
    "        번호 = mid\n",
    "        break\n",
    "    elif 동물원[mid] < 동물 :            # 찾으려는 값이 중간값보다 큰 경우\n",
    "        left = mid + 1\n",
    "    else:                               # 찾으려는 값이 중간값보다 작은 경우\n",
    "        right = mid -1\n",
    "        \n",
    "if 번호 >= 0:\n",
    "    print(동물 + '을(를) 만나려면 '+str(번호)+'구역으로 가세요.')\n",
    "else:\n",
    "    print(동물 + '은(는) 동물원에 없습니다. ')"
   ]
  },
  {
   "cell_type": "markdown",
   "id": "6636f269-ec96-4f22-bef5-437bb9e2bee2",
   "metadata": {},
   "source": [
    "<div style=\"padding: 15px; border: 5px solid transparent; border-color: transparent; margin-bottom: 20px; border-radius: 4px; color: #3c763d; border-color: #d6e9c6; font-weight: bold;\">\n",
    "<h2 style='font-weight: bold'>3. 문자열 압축 알고리즘 구현하기</h2>\n",
    "</div>"
   ]
  },
  {
   "cell_type": "markdown",
   "id": "3fd1d78c-d644-4b40-aee2-f254156e25a2",
   "metadata": {},
   "source": [
    "<div style=\"padding: 15px; border: 5px solid transparent; border-color: transparent; margin-bottom: 20px; border-radius: 4px; color: #8a6d3b;  border-color: #faebcc; font-weight: bold;\">\n",
    "    <div style=\"font-weight: bold; font-size: 20px\">✏️ [예제3]</div>\n",
    "    <br>\n",
    "문자열 압축하기<br>\n",
    "</div>"
   ]
  },
  {
   "cell_type": "code",
   "execution_count": 6,
   "id": "ad6004dd-f741-422a-ac84-c20416b14ed4",
   "metadata": {
    "codle/previous_execution": {
     "code": "압축전 = input('압축하려는 문자열 : ')\n압축후 = ''\n글자수 = 1\nprev = 압축전[0]\nfor char in 압축전[1:]:\n    if char == prev:             # 현자 문자(char)와 이전 문자(prev)가 같은 경우\n        글자수 = 글자수 + 1\n    else:                        #현재 문자와 이전 문자가 다른 경우\n        압축후 = 압축후 + prev + str(글자수)\n        글자수 = 1\n        prev = char\n\n# 마지막 문자열 처리\n압축후 = 압축후 + prev + str(글자수)\nprint(압축후)",
     "id": "3523744"
    },
    "tags": []
   },
   "outputs": [
    {
     "name": "stdin",
     "output_type": "stream",
     "text": [
      "압축하려는 문자열 :  123456789\n"
     ]
    },
    {
     "name": "stdout",
     "output_type": "stream",
     "text": [
      "112131415161718191\n"
     ]
    }
   ],
   "source": [
    "압축전 = input('압축하려는 문자열 : ')\n",
    "압축후 = ''\n",
    "글자수 = 1\n",
    "prev = 압축전[0]\n",
    "for char in 압축전[1:]:\n",
    "    if char == prev:             # 현자 문자(char)와 이전 문자(prev)가 같은 경우\n",
    "        글자수 = 글자수 + 1\n",
    "    else:                        #현재 문자와 이전 문자가 다른 경우\n",
    "        압축후 = 압축후 + prev + str(글자수)\n",
    "        글자수 = 1\n",
    "        prev = char\n",
    "\n",
    "# 마지막 문자열 처리\n",
    "압축후 = 압축후 + prev + str(글자수)\n",
    "print(압축후)"
   ]
  },
  {
   "cell_type": "markdown",
   "id": "f78aa628-d1fa-4dab-bb9b-b015428cf8d2",
   "metadata": {},
   "source": [
    "<div style=\"padding: 15px; border: 5px solid transparent; border-color: transparent; margin-bottom: 20px; border-radius: 4px; color: #8a6d3b;  border-color: #faebcc; font-weight: bold;\">\n",
    "    <div style=\"font-weight: bold; font-size: 20px\">✏️ [예제4]</div>\n",
    "    <br>\n",
    "선택 정렬로 카드 정렬하기<br>\n",
    "</div>"
   ]
  },
  {
   "cell_type": "code",
   "execution_count": 19,
   "id": "3f216181-5618-44c3-a9a9-d5f4d9aa21e9",
   "metadata": {
    "codle/previous_execution": {
     "code": "카드 = [30, 19, 10, 7, 12, 26, 3, 4]\nprint('정렬전 : ', 카드)\n\nfor i in range(0, len(카드)):\n    최솟값 = 카드[i]\n    k = i\n    for j in range(i+1, len(카드)):\n        if 카드[j] < 최솟값:\n            최솟값 = 카드[j]\n            k = j\n\n    임시저장 = 카드[i]\n    카드[i] = 카드[k]\n    카드[k] = 임시저장\n    \n        \nprint('정렬후 : ', 카드)",
     "id": "3525512"
    },
    "tags": []
   },
   "outputs": [
    {
     "name": "stdout",
     "output_type": "stream",
     "text": [
      "정렬전 :  [30, 19, 10, 7, 12, 26, 3, 4]\n",
      "정렬후 :  [3, 4, 7, 10, 12, 19, 26, 30]\n"
     ]
    }
   ],
   "source": [
    "카드 = [30, 19, 10, 7, 12, 26, 3, 4]\n",
    "print('정렬전 : ', 카드)\n",
    "\n",
    "for i in range(0, len(카드)):\n",
    "    최솟값 = 카드[i]\n",
    "    k = i\n",
    "    for j in range(i+1, len(카드)):\n",
    "        if 카드[j] < 최솟값:\n",
    "            최솟값 = 카드[j]\n",
    "            k = j\n",
    "\n",
    "    임시저장 = 카드[i]\n",
    "    카드[i] = 카드[k]\n",
    "    카드[k] = 임시저장  #### 교과서 오타\n",
    "    \n",
    "        \n",
    "print('정렬후 : ', 카드)"
   ]
  },
  {
   "cell_type": "markdown",
   "id": "44a3be20-d909-45f0-944c-72f8b636868d",
   "metadata": {},
   "source": [
    "<div style=\"padding: 15px; border: 5px solid transparent; border-color: transparent; margin-bottom: 20px; border-radius: 4px; color: #8a6d3b;  border-color: #faebcc; font-weight: bold;\">\n",
    "    <div style=\"font-weight: bold; font-size: 20px\">✏️ [예제5]</div>\n",
    "    <br>\n",
    "용돈 지출 내역<br>\n",
    "</div>"
   ]
  },
  {
   "cell_type": "code",
   "execution_count": 21,
   "id": "0c592ecd-af22-4e45-91bd-6fbc9ca0f02b",
   "metadata": {
    "codle/previous_execution": {
     "code": "지출 = [[12000, 7300, 5000, 3800],\n     [3500, 0, 2100, 15000], \n     [1700, 15500, 9200, 2000]]\n합 = 0\nfor i in range(len(지출)):\n    for j in range(len(지출[i])):\n        합 = 합 + 지출[i][j]\nprint('합 :', 합)\nprint('주평균지출 :', 합/(4*3))     #합(len(지출)*len(재출[0]))",
     "id": "3525786"
    },
    "tags": []
   },
   "outputs": [
    {
     "name": "stdout",
     "output_type": "stream",
     "text": [
      "합 : 77100\n",
      "주평균지출 : 6425.0\n"
     ]
    }
   ],
   "source": [
    "지출 = [[12000, 7300, 5000, 3800],\n",
    "     [3500, 0, 2100, 15000], \n",
    "     [1700, 15500, 9200, 2000]]\n",
    "합 = 0\n",
    "for i in range(len(지출)):\n",
    "    for j in range(len(지출[i])):\n",
    "        합 = 합 + 지출[i][j]\n",
    "print('합 :', 합)\n",
    "print('주평균지출 :', 합/(4*3))     #합(len(지출)*len(재출[0]))"
   ]
  }
 ],
 "metadata": {
  "kernelspec": {
   "display_name": "Python 3 (ipykernel)",
   "language": "python",
   "name": "python3"
  },
  "language_info": {
   "codemirror_mode": {
    "name": "ipython",
    "version": 3
   },
   "file_extension": ".py",
   "mimetype": "text/x-python",
   "name": "python",
   "nbconvert_exporter": "python",
   "pygments_lexer": "ipython3",
   "version": "3.10.13"
  }
 },
 "nbformat": 4,
 "nbformat_minor": 5
}
