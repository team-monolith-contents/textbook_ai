{
 "cells": [
  {
   "cell_type": "markdown",
   "id": "02c07ab9-be54-4ba4-95d5-434fdf130149",
   "metadata": {},
   "source": [
    "### 도전 프로그래밍 97"
   ]
  },
  {
   "cell_type": "code",
   "execution_count": 5,
   "id": "cf26b863-f534-45f1-af31-24c92ae09f22",
   "metadata": {
    "codle/previous_execution": {
     "code": "# 다음은 가족의 나이입니다. 가족 나이 모두의 합과 평균을 구하시오. \ndad = '58'\nmom = '56'\nbro = '25'\nsis = '20'\nme = '17'\n\n################아래에 코드를 작성하시오###################\nint(dad) + int(mom) + int(bro) + int(sis) + int(me), (int(dad) + int(mom) + int(bro) + int(sis) + int(me))/5\n\n\n\n# 형변환\n# 합과 평균에 대한 연산\n# 우선순위를 위한 () 또는 변수(범위 아님)",
     "id": "3502958"
    },
    "tags": []
   },
   "outputs": [
    {
     "data": {
      "text/plain": [
       "(176, 35.2)"
      ]
     },
     "execution_count": 5,
     "metadata": {},
     "output_type": "execute_result"
    }
   ],
   "source": [
    "# 다음은 가족의 나이입니다. 가족 나이 모두의 합과 평균을 구하시오. \n",
    "dad = '58'\n",
    "mom = '56'\n",
    "bro = '25'\n",
    "sis = '20'\n",
    "me = '17'\n",
    "\n",
    "################아래에 코드를 작성하시오###################\n",
    "int(dad) + int(mom) + int(bro) + int(sis) + int(me), (int(dad) + int(mom) + int(bro) + int(sis) + int(me))/5\n",
    "\n",
    "\n",
    "\n",
    "# 형변환\n",
    "# 합과 평균에 대한 연산\n",
    "# 우선순위를 위한 () 또는 변수(범위 아님)"
   ]
  }
 ],
 "metadata": {
  "kernelspec": {
   "display_name": "Python 3 (ipykernel)",
   "language": "python",
   "name": "python3"
  },
  "language_info": {
   "codemirror_mode": {
    "name": "ipython",
    "version": 3
   },
   "file_extension": ".py",
   "mimetype": "text/x-python",
   "name": "python",
   "nbconvert_exporter": "python",
   "pygments_lexer": "ipython3",
   "version": "3.10.13"
  }
 },
 "nbformat": 4,
 "nbformat_minor": 5
}
