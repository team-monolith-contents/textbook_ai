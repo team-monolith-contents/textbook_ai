{
 "cells": [
  {
   "cell_type": "markdown",
   "id": "ddd9f169-7f8b-48fa-a37e-f2a0991648b0",
   "metadata": {},
   "source": [
    "### 해당 단원에서 제공할 수 있는 상상 가능한 모든 형태의 문제 샘플이 있어야 함(자동 채점이 가능해야 함 -> 명확한 정답이 존재 해야 됨)\n",
    "\n",
    "\n",
    "\n",
    "\n",
    "\n"
   ]
  },
  {
   "cell_type": "markdown",
   "id": "51b8896f-ba23-4ee7-9ccf-510ccb5fb040",
   "metadata": {},
   "source": [
    "(객) 1. 다음 중 변수에 값을 가장 알맞게 저장한 것을 고르시오. \n",
    "\n",
    "1. 7lucky = 7\n",
    "2. _lucky == 7\n",
    "3. lucky = 7\n",
    "4. l u c k = 7"
   ]
  },
  {
   "cell_type": "markdown",
   "id": "e20c2350-7470-4d29-93c1-e04996fb1c9b",
   "metadata": {},
   "source": [
    "(객) 2. 다음 주 자료형의 종류가 아닌 것은?\n",
    "\n",
    "1. 문자열\n",
    "2. 수치\n",
    "3. 이상형\n",
    "4. 불\n"
   ]
  },
  {
   "cell_type": "markdown",
   "id": "916dc343-700e-47e7-bfa5-3c42484d8468",
   "metadata": {},
   "source": [
    "(객) 3. 다음 주 자료형이 다른 하나는?\n",
    "\n",
    "1. 3\n",
    "2. 500\n",
    "3. -2\n",
    "4. 3.14"
   ]
  },
  {
   "cell_type": "markdown",
   "id": "a477a090-7fc6-4956-bd4b-16fda16710ff",
   "metadata": {},
   "source": [
    "(줄 긋기) 4. 다음 중 자료형이 맞는 것끼리 연결하시오. \n",
    "\n",
    "<table>\n",
    "    <tr>\n",
    "        <td>\n",
    "            1. 'love'   </td><td width=200></td><td>        a. 정수</td></tr><tr><td>\n",
    "2. 4.5    </td><td width=200></td><td>          b. 실수</td></tr><tr><td>\n",
    "3. True    </td><td width=200></td><td>        c. 불</td></tr><tr><td>\n",
    "4. -3    </td><td width=200></td><td>           d. 문자열</td></tr></table>"
   ]
  },
  {
   "cell_type": "markdown",
   "id": "ccfc9563-48c4-401b-92b7-331e681dd3d9",
   "metadata": {},
   "source": [
    "(단답형) 5. 불(bool) 자료형의 종류를 두 가지 적으시오.\n"
   ]
  },
  {
   "cell_type": "markdown",
   "id": "528498bd-33e8-479e-883c-e15da1c34efd",
   "metadata": {},
   "source": [
    "(객) 6. 다음 중 인덱싱, 슬라이싱이 가능한 자료형을 고르시오.\n",
    "\n",
    "1. 정수\n",
    "2. 실수\n",
    "3. 문자열\n",
    "4. 불"
   ]
  },
  {
   "cell_type": "markdown",
   "id": "0f8c9e98-f9b2-436b-91ed-1402aadf572c",
   "metadata": {},
   "source": [
    "(단답형) 7. 다음 연산의 결과를 쓰시오. \n",
    "\n",
    "3 > 1 and 2 > 1"
   ]
  },
  {
   "cell_type": "markdown",
   "id": "4569bfa4-415f-41f9-9f48-ce266b62a3b0",
   "metadata": {},
   "source": [
    "(객) 8. 다음 연산 결과의 자료형이 나머지와 다른 것을 고르시오.\n",
    "\n",
    "1. 7 // 2\n",
    "2. 3 - 2\n",
    "3. 7 / 2\n",
    "4. 7 % 2"
   ]
  },
  {
   "cell_type": "markdown",
   "id": "d4951b69-2964-4325-9309-aa3f3f40819a",
   "metadata": {},
   "source": [
    "(단답형) 9. 수치 데이터와 문자열 데이터에서 모두 사용할 수 있는 연산은 무엇일까요?\n",
    "\n"
   ]
  },
  {
   "cell_type": "markdown",
   "id": "d48d659d-b992-4cb0-8e87-8beb82306ae8",
   "metadata": {},
   "source": [
    "(단답형) 10. 다음 연산의 결과를 적으세요. \n",
    "\n",
    "'Hello, Python!'[2:7]\n",
    "\n",
    "정답 : 'llo, '"
   ]
  },
  {
   "cell_type": "code",
   "execution_count": 5,
   "id": "f3c64e49-d2b9-4da1-8582-528a1b30a239",
   "metadata": {
    "codle/previous_execution": {
     "code": "# 10. a와 b를 이용해서 산술연산 결과를 출력하세요\n\na = 5\nb = 3\n\n#############아래에 코드를 작성하시오. #########################\nprint('덧셈 : ', None)\nprint('뺄셈 : ', None)\nprint('곱셈 : ', None)\nprint('제곱 : ', None)\nprint('나눗셈 : ', None)\nprint('몫 : ', None)\nprint('나머지 : ', None)\n\n#############모범답안#########################\nprint('덧셈 : ', a + b)\nprint('뺄셈 : ', a - b)\nprint('곱셈 : ', a * b)\nprint('제곱 : ', a ** b)\nprint('나눗셈 : ', a / b)\nprint('몫 : ', a // b)\nprint('나머지 : ', a % b)\n",
     "id": "3507812"
    },
    "tags": []
   },
   "outputs": [
    {
     "name": "stdout",
     "output_type": "stream",
     "text": [
      "덧셈 :  None\n",
      "뺄셈 :  None\n",
      "곱셈 :  None\n",
      "제곱 :  None\n",
      "나눗셈 :  None\n",
      "몫 :  None\n",
      "나머지 :  None\n",
      "덧셈 :  8\n",
      "뺄셈 :  2\n",
      "곱셈 :  15\n",
      "제곱 :  125\n",
      "나눗셈 :  1.6666666666666667\n",
      "몫 :  1\n",
      "나머지 :  2\n"
     ]
    }
   ],
   "source": [
    "# 10. a와 b를 이용해서 산술연산 결과를 출력하세요\n",
    "\n",
    "a = 5\n",
    "b = 3\n",
    "\n",
    "#############아래에 코드를 작성하시오. #########################\n",
    "print('덧셈 : ', None)\n",
    "print('뺄셈 : ', None)\n",
    "print('곱셈 : ', None)\n",
    "print('제곱 : ', None)\n",
    "print('나눗셈 : ', None)\n",
    "print('몫 : ', None)\n",
    "print('나머지 : ', None)\n",
    "\n",
    "#############모범답안#########################\n",
    "print('덧셈 : ', a + b)\n",
    "print('뺄셈 : ', a - b)\n",
    "print('곱셈 : ', a * b)\n",
    "print('제곱 : ', a ** b)\n",
    "print('나눗셈 : ', a / b)\n",
    "print('몫 : ', a // b)\n",
    "print('나머지 : ', a % b)\n"
   ]
  }
 ],
 "metadata": {
  "kernelspec": {
   "display_name": "Python 3 (ipykernel)",
   "language": "python",
   "name": "python3"
  },
  "language_info": {
   "codemirror_mode": {
    "name": "ipython",
    "version": 3
   },
   "file_extension": ".py",
   "mimetype": "text/x-python",
   "name": "python",
   "nbconvert_exporter": "python",
   "pygments_lexer": "ipython3",
   "version": "3.10.13"
  }
 },
 "nbformat": 4,
 "nbformat_minor": 5
}
