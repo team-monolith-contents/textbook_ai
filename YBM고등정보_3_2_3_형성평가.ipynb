{
 "cells": [
  {
   "cell_type": "code",
   "execution_count": null,
   "id": "51e7e06d-2e88-45f8-acdf-34a61ba767d4",
   "metadata": {},
   "outputs": [],
   "source": [
    "1. 파이선에서 2개 이상의 데이터를 저장할 공간을 무엇이라고 하나요?\n",
    "\n"
   ]
  },
  {
   "cell_type": "markdown",
   "id": "37148000-a7ac-41c4-9979-a3ace26f568c",
   "metadata": {},
   "source": []
  }
 ],
 "metadata": {
  "kernelspec": {
   "display_name": "Python 3 (ipykernel)",
   "language": "python",
   "name": "python3"
  },
  "language_info": {
   "codemirror_mode": {
    "name": "ipython",
    "version": 3
   },
   "file_extension": ".py",
   "mimetype": "text/x-python",
   "name": "python",
   "nbconvert_exporter": "python",
   "pygments_lexer": "ipython3",
   "version": "3.10.13"
  }
 },
 "nbformat": 4,
 "nbformat_minor": 5
}
